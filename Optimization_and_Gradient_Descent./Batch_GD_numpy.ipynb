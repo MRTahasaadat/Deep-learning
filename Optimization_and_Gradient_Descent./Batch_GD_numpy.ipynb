{
 "cells": [
  {
   "cell_type": "code",
   "execution_count": 1,
   "id": "f0e30a21",
   "metadata": {
    "vscode": {
     "languageId": "plaintext"
    }
   },
   "outputs": [
    {
     "name": "stdout",
     "output_type": "stream",
     "text": [
      "step    0 | loss=3.7341\n",
      "step  100 | loss=0.0208\n",
      "step  200 | loss=0.0208\n",
      "step  300 | loss=0.0208\n",
      "step  400 | loss=0.0208\n",
      "step  500 | loss=0.0208\n",
      "step  600 | loss=0.0208\n",
      "step  700 | loss=0.0208\n",
      "step  800 | loss=0.0208\n",
      "step  900 | loss=0.0208\n",
      "Estimated w,b (original space): 1.9873492649718987 0.9841218277547492\n"
     ]
    },
    {
     "name": "stderr",
     "output_type": "stream",
     "text": [
      "C:\\Users\\Pars\\AppData\\Local\\Temp\\ipykernel_3460\\686810367.py:40: DeprecationWarning: Conversion of an array with ndim > 0 to a scalar is deprecated, and will error in future. Ensure you extract a single element from your array before performing this operation. (Deprecated NumPy 1.25.)\n",
      "  print(\"Estimated w,b (original space):\", float(w_orig), float(b_orig))\n"
     ]
    }
   ],
   "source": [
    "import numpy as np\n",
    "\n",
    "# Data: y = 2x + 1 + noise\n",
    "rng = np.random.default_rng(0)\n",
    "N = 200\n",
    "x = rng.uniform(-2, 2, size=(N, 1))\n",
    "y = 2.0 * x + 1.0 + rng.normal(0, 0.2, size=(N, 1))\n",
    "\n",
    "# Standardize x (optional but recommended)\n",
    "x_mean, x_std = x.mean(), x.std()\n",
    "xs = (x - x_mean) / (x_std + 1e-8)\n",
    "\n",
    "# Parameters\n",
    "w = np.zeros((1, 1))\n",
    "b = 0.0\n",
    "eta = 0.1\n",
    "T = 1000\n",
    "\n",
    "for t in range(T):\n",
    "    # predictions\n",
    "    yhat = xs @ w + b\n",
    "    # MSE loss (1/2N) * ||yhat - y||^2\n",
    "    err = yhat - y\n",
    "    loss = (err**2).mean() / 2.0\n",
    "\n",
    "    # full-batch gradients\n",
    "    dw = (xs.T @ err) / len(xs)\n",
    "    db = err.mean()\n",
    "\n",
    "    # update\n",
    "    w -= eta * dw\n",
    "    b -= eta * db\n",
    "\n",
    "    if t % 100 == 0:\n",
    "        print(f\"step {t:4d} | loss={loss:.4f}\")\n",
    "\n",
    "# De-standardize slope/intercept to original x space (optional)\n",
    "w_orig = w / (x_std + 1e-8)\n",
    "b_orig = b - (x_mean * w_orig)\n",
    "print(\"Estimated w,b (original space):\", float(w_orig), float(b_orig))\n"
   ]
  },
  {
   "cell_type": "code",
   "execution_count": null,
   "id": "30e0ac72",
   "metadata": {
    "vscode": {
     "languageId": "plaintext"
    }
   },
   "outputs": [],
   "source": []
  }
 ],
 "metadata": {
  "kernelspec": {
   "display_name": "Python 3 (ipykernel)",
   "language": "python",
   "name": "python3"
  },
  "language_info": {
   "codemirror_mode": {
    "name": "ipython",
    "version": 3
   },
   "file_extension": ".py",
   "mimetype": "text/x-python",
   "name": "python",
   "nbconvert_exporter": "python",
   "pygments_lexer": "ipython3",
   "version": "3.12.4"
  }
 },
 "nbformat": 4,
 "nbformat_minor": 5
}
