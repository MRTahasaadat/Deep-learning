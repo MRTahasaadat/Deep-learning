{
 "cells": [
  {
   "cell_type": "code",
   "execution_count": 1,
   "metadata": {},
   "outputs": [],
   "source": [
    "import numpy as np\n",
    "import matplotlib.pyplot as plt\n",
    "from sklearn.datasets import load_digits\n",
    "import time"
   ]
  },
  {
   "cell_type": "code",
   "execution_count": 2,
   "metadata": {},
   "outputs": [],
   "source": [
    "digits = load_digits()\n",
    "X = digits.data  \n",
    "y = digits.target.reshape(-1, 1)\n"
   ]
  },
  {
   "cell_type": "code",
   "execution_count": 3,
   "metadata": {},
   "outputs": [],
   "source": [
    "def standard_scale(X):\n",
    "    mean = np.mean(X, axis=0)\n",
    "    std = np.std(X, axis=0)\n",
    "    std[std == 0] = 1  \n",
    "    return (X - mean) / std"
   ]
  },
  {
   "cell_type": "code",
   "execution_count": 4,
   "metadata": {},
   "outputs": [],
   "source": [
    "def one_hot_encode(y, num_classes):\n",
    "    y_encoded = np.zeros((y.shape[0], num_classes))\n",
    "    y_encoded[np.arange(y.shape[0]), y] = 1\n",
    "    return y_encoded"
   ]
  },
  {
   "cell_type": "code",
   "execution_count": 5,
   "metadata": {},
   "outputs": [],
   "source": [
    "def train_test_split(X, y, test_ratio=0.2, seed=42):\n",
    "    np.random.seed(seed)\n",
    "    indices = np.random.permutation(len(X))\n",
    "    test_size = int(len(X) * test_ratio)\n",
    "    test_indices = indices[:test_size]\n",
    "    train_indices = indices[test_size:]\n",
    "    return X[train_indices], X[test_indices], y[train_indices], y[test_indices]"
   ]
  },
  {
   "cell_type": "code",
   "execution_count": 6,
   "metadata": {},
   "outputs": [],
   "source": [
    "def sigmoid(x):\n",
    "    return 1 / (1 + np.exp(-x))\n",
    "\n",
    "def sigmoid_derivative(x):\n",
    "    return x * (1 - x)"
   ]
  },
  {
   "cell_type": "code",
   "execution_count": 7,
   "metadata": {},
   "outputs": [],
   "source": [
    "X = standard_scale(X)\n",
    "y_encoded = one_hot_encode(y, 10)\n",
    "X_train, X_test, y_train, y_test = train_test_split(X, y_encoded)"
   ]
  },
  {
   "cell_type": "code",
   "execution_count": 8,
   "metadata": {},
   "outputs": [],
   "source": [
    "np.random.seed(1)\n",
    "W1 = 2 * np.random.randn(64, 32) - 1\n",
    "b1 = np.zeros((1, 32))\n",
    "W2 = 2 * np.random.randn(32, 10) - 1\n",
    "b2 = np.zeros((1, 10))\n",
    "\n",
    "lr = 0.00051\n",
    "epochs = 6500"
   ]
  },
  {
   "cell_type": "code",
   "execution_count": 9,
   "metadata": {},
   "outputs": [
    {
     "name": "stdout",
     "output_type": "stream",
     "text": [
      "Epoch 0, Loss: 0.9528, Accuracy: 0.49%\n",
      "Epoch 50, Loss: 0.8804, Accuracy: 0.28%\n",
      "Epoch 100, Loss: 0.8627, Accuracy: 0.21%\n",
      "Epoch 150, Loss: 0.8133, Accuracy: 0.14%\n",
      "Epoch 200, Loss: 0.7212, Accuracy: 0.00%\n",
      "Epoch 250, Loss: 0.6454, Accuracy: 0.00%\n",
      "Epoch 300, Loss: 0.5322, Accuracy: 0.00%\n",
      "Epoch 350, Loss: 0.4586, Accuracy: 0.00%\n",
      "Epoch 400, Loss: 0.3909, Accuracy: 0.00%\n",
      "Epoch 450, Loss: 0.2518, Accuracy: 0.00%\n",
      "Epoch 500, Loss: 0.2134, Accuracy: 0.00%\n",
      "Epoch 550, Loss: 0.2035, Accuracy: 0.00%\n",
      "Epoch 600, Loss: 0.1991, Accuracy: 0.00%\n",
      "Epoch 650, Loss: 0.1953, Accuracy: 0.00%\n",
      "Epoch 700, Loss: 0.1907, Accuracy: 0.00%\n",
      "Epoch 750, Loss: 0.1846, Accuracy: 0.00%\n",
      "Epoch 800, Loss: 0.1759, Accuracy: 0.00%\n",
      "Epoch 850, Loss: 0.1491, Accuracy: 0.07%\n",
      "Epoch 900, Loss: 0.0979, Accuracy: 0.07%\n",
      "Epoch 950, Loss: 0.0951, Accuracy: 0.14%\n",
      "Epoch 1000, Loss: 0.0939, Accuracy: 0.14%\n",
      "Epoch 1050, Loss: 0.0929, Accuracy: 0.14%\n",
      "Epoch 1100, Loss: 0.0919, Accuracy: 0.14%\n",
      "Epoch 1150, Loss: 0.0905, Accuracy: 0.14%\n",
      "Epoch 1200, Loss: 0.0885, Accuracy: 0.14%\n",
      "Epoch 1250, Loss: 0.0865, Accuracy: 0.49%\n",
      "Epoch 1300, Loss: 0.0840, Accuracy: 0.97%\n",
      "Epoch 1350, Loss: 0.0803, Accuracy: 1.11%\n",
      "Epoch 1400, Loss: 0.0743, Accuracy: 1.81%\n",
      "Epoch 1450, Loss: 0.0648, Accuracy: 3.13%\n",
      "Epoch 1500, Loss: 0.0428, Accuracy: 6.19%\n",
      "Epoch 1550, Loss: 0.0133, Accuracy: 11.34%\n",
      "Epoch 1600, Loss: 0.0061, Accuracy: 15.44%\n",
      "Epoch 1650, Loss: 0.0042, Accuracy: 17.73%\n",
      "Epoch 1700, Loss: 0.0033, Accuracy: 19.89%\n",
      "Epoch 1750, Loss: 0.0026, Accuracy: 21.49%\n",
      "Epoch 1800, Loss: 0.0021, Accuracy: 22.53%\n",
      "Epoch 1850, Loss: 0.0018, Accuracy: 23.92%\n",
      "Epoch 1900, Loss: 0.0014, Accuracy: 25.73%\n",
      "Epoch 1950, Loss: 0.0011, Accuracy: 26.84%\n",
      "Epoch 2000, Loss: 0.0009, Accuracy: 27.75%\n",
      "Epoch 2050, Loss: 0.0008, Accuracy: 28.51%\n",
      "Epoch 2100, Loss: 0.0007, Accuracy: 28.93%\n",
      "Epoch 2150, Loss: 0.0007, Accuracy: 29.07%\n",
      "Epoch 2200, Loss: 0.0006, Accuracy: 29.35%\n",
      "Epoch 2250, Loss: 0.0006, Accuracy: 29.55%\n",
      "Epoch 2300, Loss: 0.0006, Accuracy: 29.76%\n",
      "Epoch 2350, Loss: 0.0005, Accuracy: 29.83%\n",
      "Epoch 2400, Loss: 0.0005, Accuracy: 30.25%\n",
      "Epoch 2450, Loss: 0.0005, Accuracy: 30.32%\n",
      "Epoch 2500, Loss: 0.0005, Accuracy: 30.39%\n",
      "Epoch 2550, Loss: 0.0004, Accuracy: 30.46%\n",
      "Epoch 2600, Loss: 0.0004, Accuracy: 30.60%\n",
      "Epoch 2650, Loss: 0.0004, Accuracy: 30.74%\n",
      "Epoch 2700, Loss: 0.0004, Accuracy: 30.88%\n",
      "Epoch 2750, Loss: 0.0004, Accuracy: 31.08%\n",
      "Epoch 2800, Loss: 0.0003, Accuracy: 31.15%\n",
      "Epoch 2850, Loss: 0.0003, Accuracy: 31.29%\n",
      "Epoch 2900, Loss: 0.0003, Accuracy: 31.64%\n",
      "Epoch 2950, Loss: 0.0003, Accuracy: 31.64%\n",
      "Epoch 3000, Loss: 0.0003, Accuracy: 31.64%\n",
      "Epoch 3050, Loss: 0.0003, Accuracy: 31.78%\n",
      "Epoch 3100, Loss: 0.0003, Accuracy: 31.85%\n",
      "Epoch 3150, Loss: 0.0003, Accuracy: 31.92%\n",
      "Epoch 3200, Loss: 0.0002, Accuracy: 32.06%\n",
      "Epoch 3250, Loss: 0.0002, Accuracy: 32.41%\n",
      "Epoch 3300, Loss: 0.0002, Accuracy: 32.55%\n",
      "Epoch 3350, Loss: 0.0002, Accuracy: 32.55%\n",
      "Epoch 3400, Loss: 0.0002, Accuracy: 32.68%\n",
      "Epoch 3450, Loss: 0.0002, Accuracy: 33.03%\n",
      "Epoch 3500, Loss: 0.0001, Accuracy: 33.24%\n",
      "Epoch 3550, Loss: 0.0001, Accuracy: 33.45%\n",
      "Epoch 3600, Loss: 0.0001, Accuracy: 33.45%\n",
      "Epoch 3650, Loss: 0.0001, Accuracy: 33.45%\n",
      "Epoch 3700, Loss: 0.0001, Accuracy: 33.52%\n",
      "Epoch 3750, Loss: 0.0001, Accuracy: 33.66%\n",
      "Epoch 3800, Loss: 0.0001, Accuracy: 33.66%\n",
      "Epoch 3850, Loss: 0.0001, Accuracy: 33.66%\n",
      "Epoch 3900, Loss: 0.0001, Accuracy: 33.66%\n",
      "Epoch 3950, Loss: 0.0001, Accuracy: 33.66%\n",
      "Epoch 4000, Loss: 0.0001, Accuracy: 33.73%\n",
      "Epoch 4050, Loss: 0.0001, Accuracy: 33.80%\n",
      "Epoch 4100, Loss: 0.0001, Accuracy: 33.94%\n",
      "Epoch 4150, Loss: 0.0001, Accuracy: 33.94%\n",
      "Epoch 4200, Loss: 0.0001, Accuracy: 33.94%\n",
      "Epoch 4250, Loss: 0.0001, Accuracy: 33.94%\n",
      "Epoch 4300, Loss: 0.0001, Accuracy: 33.94%\n",
      "Epoch 4350, Loss: 0.0001, Accuracy: 34.01%\n",
      "Epoch 4400, Loss: 0.0001, Accuracy: 34.01%\n",
      "Epoch 4450, Loss: 0.0001, Accuracy: 34.08%\n",
      "Epoch 4500, Loss: 0.0001, Accuracy: 34.08%\n",
      "Epoch 4550, Loss: 0.0001, Accuracy: 34.08%\n",
      "Epoch 4600, Loss: 0.0001, Accuracy: 34.14%\n",
      "Epoch 4650, Loss: 0.0001, Accuracy: 34.14%\n",
      "Epoch 4700, Loss: 0.0001, Accuracy: 34.14%\n",
      "Epoch 4750, Loss: 0.0001, Accuracy: 34.14%\n",
      "Epoch 4800, Loss: 0.0001, Accuracy: 34.14%\n",
      "Epoch 4850, Loss: 0.0001, Accuracy: 34.14%\n",
      "Epoch 4900, Loss: 0.0001, Accuracy: 34.14%\n",
      "Epoch 4950, Loss: 0.0001, Accuracy: 34.14%\n",
      "Epoch 5000, Loss: 0.0001, Accuracy: 34.14%\n",
      "Epoch 5050, Loss: 0.0001, Accuracy: 34.14%\n",
      "Epoch 5100, Loss: 0.0001, Accuracy: 34.14%\n",
      "Epoch 5150, Loss: 0.0001, Accuracy: 34.14%\n",
      "Epoch 5200, Loss: 0.0001, Accuracy: 34.21%\n",
      "Epoch 5250, Loss: 0.0001, Accuracy: 34.28%\n",
      "Epoch 5300, Loss: 0.0001, Accuracy: 34.28%\n",
      "Epoch 5350, Loss: 0.0001, Accuracy: 34.28%\n",
      "Epoch 5400, Loss: 0.0001, Accuracy: 34.28%\n",
      "Epoch 5450, Loss: 0.0001, Accuracy: 34.21%\n",
      "Epoch 5500, Loss: 0.0001, Accuracy: 34.21%\n",
      "Epoch 5550, Loss: 0.0001, Accuracy: 34.21%\n",
      "Epoch 5600, Loss: 0.0001, Accuracy: 34.21%\n",
      "Epoch 5650, Loss: 0.0001, Accuracy: 34.21%\n",
      "Epoch 5700, Loss: 0.0001, Accuracy: 34.21%\n",
      "Epoch 5750, Loss: 0.0001, Accuracy: 34.21%\n",
      "Epoch 5800, Loss: 0.0001, Accuracy: 34.21%\n",
      "Epoch 5850, Loss: 0.0001, Accuracy: 34.14%\n",
      "Epoch 5900, Loss: 0.0001, Accuracy: 34.14%\n",
      "Epoch 5950, Loss: 0.0000, Accuracy: 34.14%\n",
      "Epoch 6000, Loss: 0.0000, Accuracy: 34.14%\n",
      "Epoch 6050, Loss: 0.0000, Accuracy: 34.14%\n",
      "Epoch 6100, Loss: 0.0000, Accuracy: 34.14%\n",
      "Epoch 6150, Loss: 0.0000, Accuracy: 34.14%\n",
      "Epoch 6200, Loss: 0.0000, Accuracy: 34.14%\n",
      "Epoch 6250, Loss: 0.0000, Accuracy: 34.14%\n",
      "Epoch 6300, Loss: 0.0000, Accuracy: 34.08%\n",
      "Epoch 6350, Loss: 0.0000, Accuracy: 34.08%\n",
      "Epoch 6400, Loss: 0.0000, Accuracy: 34.08%\n",
      "Epoch 6450, Loss: 0.0000, Accuracy: 34.08%\n"
     ]
    }
   ],
   "source": [
    "losses = []\n",
    "accuracies = []\n",
    "times = []\n",
    "\n",
    "start_time = time.time()\n",
    "\n",
    "for epoch in range(epochs):\n",
    "    z1 = np.dot(X_train, W1) + b1\n",
    "    a1 = sigmoid(z1)\n",
    "    z2 = np.dot(a1, W2) + b2\n",
    "    a2 = sigmoid(z2)\n",
    "\n",
    "    error = y_train - a2\n",
    "    loss = np.mean(np.square(error))\n",
    "    losses.append(loss)\n",
    "\n",
    "    pred_labels = np.argmax(a2, axis=1)\n",
    "    true_labels = np.argmax(y_train, axis=1)\n",
    "    acc = np.mean(pred_labels == true_labels)\n",
    "    accuracies.append(acc)\n",
    "\n",
    "    times.append(time.time() - start_time)\n",
    "\n",
    "    delta2 = error * sigmoid_derivative(a2)\n",
    "    delta1 = delta2.dot(W2.T) * sigmoid_derivative(a1)\n",
    "\n",
    "    W2 += a1.T.dot(delta2) * lr\n",
    "    b2 += np.sum(delta2, axis=0, keepdims=True) * lr\n",
    "    W1 += X_train.T.dot(delta1) * lr\n",
    "    b1 += np.sum(delta1, axis=0, keepdims=True) * lr\n",
    "\n",
    "    if epoch % 50 == 0:\n",
    "        print(f\"Epoch {epoch}, Loss: {loss:.4f}, Accuracy: {acc*100:.2f}%\")"
   ]
  },
  {
   "cell_type": "code",
   "execution_count": 10,
   "metadata": {},
   "outputs": [
    {
     "name": "stdout",
     "output_type": "stream",
     "text": [
      "\n",
      "✅ Test accuracy: 31.48%\n"
     ]
    }
   ],
   "source": [
    "z1_test = np.dot(X_test, W1) + b1\n",
    "a1_test = sigmoid(z1_test)\n",
    "z2_test = np.dot(a1_test, W2) + b2\n",
    "a2_test = sigmoid(z2_test)\n",
    "\n",
    "final_preds = np.argmax(a2_test, axis=1)\n",
    "final_true = np.argmax(y_test, axis=1)\n",
    "final_accuracy = np.mean(final_preds == final_true)\n",
    "print(f\"\\n✅ Test accuracy: {final_accuracy * 100:.2f}%\")"
   ]
  },
  {
   "cell_type": "code",
   "execution_count": 11,
   "metadata": {},
   "outputs": [
    {
     "data": {
      "image/png": "[encoded data removed]",
      "text/plain": [
       "<Figure size 1500x400 with 3 Axes>"
      ]
     },
     "metadata": {},
     "output_type": "display_data"
    }
   ],
   "source": [
    "plt.figure(figsize=(15, 4))\n",
    "\n",
    "plt.subplot(1, 3, 1)\n",
    "plt.plot(losses, label=\"Loss\", color='red')\n",
    "plt.title(\"Training Loss\")\n",
    "plt.xlabel(\"Epoch\")\n",
    "plt.ylabel(\"Loss\")\n",
    "plt.grid(True)\n",
    "\n",
    "plt.subplot(1, 3, 2)\n",
    "plt.plot(accuracies, label=\"Accuracy\", color='green')\n",
    "plt.title(\"Training Accuracy\")\n",
    "plt.xlabel(\"Epoch\")\n",
    "plt.ylabel(\"Accuracy\")\n",
    "plt.grid(True)\n",
    "\n",
    "plt.subplot(1, 3, 3)\n",
    "plt.plot(times, label=\"Time (s)\", color='blue')\n",
    "plt.title(\"Elapsed Time\")\n",
    "plt.xlabel(\"Epoch\")\n",
    "plt.ylabel(\"Time (s)\")\n",
    "plt.grid(True)\n",
    "\n",
    "plt.tight_layout()\n",
    "plt.show()"
   ]
  }
 ],
 "metadata": {
  "kernelspec": {
   "display_name": "Python 3",
   "language": "python",
   "name": "python3"
  },
  "language_info": {
   "codemirror_mode": {
    "name": "ipython",
    "version": 3
   },
   "file_extension": ".py",
   "mimetype": "text/x-python",
   "name": "python",
   "nbconvert_exporter": "python",
   "pygments_lexer": "ipython3",
   "version": "3.12.1"
  }
 },
 "nbformat": 4,
 "nbformat_minor": 2
}
