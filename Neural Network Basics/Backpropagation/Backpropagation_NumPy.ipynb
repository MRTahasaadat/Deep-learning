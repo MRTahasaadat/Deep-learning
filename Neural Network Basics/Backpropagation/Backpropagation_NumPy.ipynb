{
 "cells": [
  {
   "cell_type": "code",
   "execution_count": 1,
   "metadata": {},
   "outputs": [],
   "source": [
    "import numpy as np\n",
    "\n",
    "def sigmoid(z):\n",
    "    return 1 / (1 + np.exp(-z))\n",
    "\n",
    "def sigmoid_derivative(z):\n",
    "    return sigmoid(z) * (1 - sigmoid(z))\n"
   ]
  },
  {
   "cell_type": "markdown",
   "metadata": {},
   "source": [
    "The sigmoid function maps z to a value between 0 and 1, and its derivative is used in backpropagation.\n",
    "<div dir=\"rtl\" style=\"text-align: right; font-family: Tahoma, Arial, sans-serif;\">\n",
    "تابع سیگموید برای تبدیل z به مقدار بین 0 تا 1، و مشتق آن برای گرادیان‌گیری.\n"
   ]
  },
  {
   "cell_type": "code",
   "execution_count": 2,
   "metadata": {},
   "outputs": [],
   "source": [
    "x = 0.5\n",
    "y_true = 1.0\n",
    "\n",
    "w = np.random.randn()\n",
    "b = np.random.randn()\n",
    "learning_rate = 0.1"
   ]
  },
  {
   "cell_type": "markdown",
   "metadata": {},
   "source": [
    "Setting input x and the target output y_true.\n",
    "\n",
    "Initial random values for the weight w and bias b.\n",
    "\n",
    "<div dir=\"rtl\" style=\"text-align: right; font-family: Tahoma, Arial, sans-serif;\">\n",
    "ورودی x و خروجی مورد انتظار y_true مشخص می‌شوند.\n",
    "\n",
    "\n",
    "وزن w و بایاس b به صورت تصادفی مقداردهی اولیه می‌شوند."
   ]
  },
  {
   "cell_type": "code",
   "execution_count": 3,
   "metadata": {},
   "outputs": [],
   "source": [
    "for epoch in range(100):\n",
    "    # Forward \n",
    "    z = w * x + b\n",
    "    y_pred = sigmoid(z)\n",
    "    loss = 0.5 * (y_true - y_pred) ** 2\n",
    "\n",
    "    # Backward \n",
    "    dL_dypred = y_pred - y_true\n",
    "    dypred_dz = sigmoid_derivative(z)\n",
    "    dz_dw = x\n",
    "    dz_db = 1\n",
    "\n",
    "    # Chain rule\n",
    "    dL_dw = dL_dypred * dypred_dz * dz_dw\n",
    "    dL_db = dL_dypred * dypred_dz * dz_db\n",
    "\n",
    "    w -= learning_rate * dL_dw\n",
    "    b -= learning_rate * dL_db\n"
   ]
  },
  {
   "cell_type": "markdown",
   "metadata": {},
   "source": [
    "1.Training loop runs for 100 epochs to update weights and bias.\n",
    "\n",
    "2.Compute z, then apply sigmoid to get the prediction y_pred.\n",
    "\n",
    "3.Calculating the error (loss) using Mean Squared Error.\n",
    "\n",
    "4.Using chain rule to combine derivatives and get final gradients.\n",
    "\n",
    "5.Weights and bias are updated using the gradients and learning rate.\n",
    "\n",
    "<div dir=\"rtl\" style=\"text-align: right; font-family: Tahoma, Arial, sans-serif;\">\n",
    "\n",
    "1.حلقه برای 100 دوره (epoch) اجرا می‌شود تا مدل آموزش ببیند.\n",
    "\n",
    "2.محاسبه مقدار z و سپس اعمال تابع سیگموید برای پیش‌بینی.\n",
    "\n",
    "3.محاسبه خطای مدل با استفاده از تابع MSE.\n",
    "\n",
    "4.محاسبه گرادیان‌های مربوط به وزن و بایاس برای به‌روزرسانی.\n",
    "\n",
    "5.وزن و بایاس با استفاده از گرادیان‌ها و نرخ یادگیری اصلاح می‌شوند."
   ]
  },
  {
   "cell_type": "code",
   "execution_count": 4,
   "metadata": {},
   "outputs": [],
   "source": [
    "if epoch % 10 == 0:\n",
    "        print(f\"Epoch {epoch}: y_pred = {y_pred:.4f}, loss = {loss:.6f}\")"
   ]
  }
 ],
 "metadata": {
  "kernelspec": {
   "display_name": "base",
   "language": "python",
   "name": "python3"
  },
  "language_info": {
   "codemirror_mode": {
    "name": "ipython",
    "version": 3
   },
   "file_extension": ".py",
   "mimetype": "text/x-python",
   "name": "python",
   "nbconvert_exporter": "python",
   "pygments_lexer": "ipython3",
   "version": "3.12.4"
  }
 },
 "nbformat": 4,
 "nbformat_minor": 2
}
