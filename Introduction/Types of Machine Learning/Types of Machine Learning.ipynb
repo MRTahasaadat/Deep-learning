{
 "cells": [
  {
   "cell_type": "markdown",
   "id": "07a585f1-b20b-458b-9041-d0c85106a2eb",
   "metadata": {
    "jp-MarkdownHeadingCollapsed": true
   },
   "source": [
    "# 1. Supervised Learning \n",
    "# <div dir=\"rtl\" style=\"text-align: right; font-family: Tahoma, Arial, sans-serif;\">یادگیری نظارت‌شده\n",
    "    \n",
    "Suppose we have data about students: hours studied and their final grades. We want to build a model that predicts the grade based on study time\n",
    ":<div dir=\"rtl\" style=\"text-align: right; font-family: Tahoma, Arial, sans-serif;\">\n",
    " فرض کنید اطلاعاتی از دانش‌آموزان داریم: تعداد ساعت‌های مطالعه و نمره نهایی. می‌خواهیم مدلی بسازیم که نمره را بر اساس مدت زمان مطالعه پیش‌بینی کند."
   ]
  },
  {
   "cell_type": "code",
   "execution_count": 5,
   "id": "9271c18a-e1af-41fd-b504-561c18d3aee4",
   "metadata": {},
   "outputs": [
    {
     "name": "stderr",
     "output_type": "stream",
     "text": [
      "c:\\Users\\Pars\\AppData\\Local\\Programs\\Python\\Python312\\Lib\\site-packages\\keras\\src\\layers\\core\\dense.py:87: UserWarning: Do not pass an `input_shape`/`input_dim` argument to a layer. When using Sequential models, prefer using an `Input(shape)` object as the first layer in the model instead.\n",
      "  super().__init__(activity_regularizer=activity_regularizer, **kwargs)\n"
     ]
    },
    {
     "name": "stdout",
     "output_type": "stream",
     "text": [
      "\u001b[1m1/1\u001b[0m \u001b[32m━━━━━━━━━━━━━━━━━━━━\u001b[0m\u001b[37m\u001b[0m \u001b[1m0s\u001b[0m 26ms/step\n",
      "[[93.04573]]\n"
     ]
    }
   ],
   "source": [
    "import tensorflow as tf\n",
    "import numpy as np\n",
    "\n",
    "X = np.array([1, 2, 3, 4, 5], dtype=float)\n",
    "Y = np.array([40, 50, 60, 70, 80], dtype=float)\n",
    "\n",
    "model = tf.keras.Sequential([tf.keras.layers.Dense(units=1, input_shape=[1])])\n",
    "model.compile(optimizer='sgd', loss='mean_squared_error')\n",
    "model.fit(X, Y, epochs=500, verbose=0)\n",
    "\n",
    "print(model.predict(np.array([6.0])))\n"
   ]
  },
  {
   "cell_type": "markdown",
   "id": "be95c760-3989-4b57-ab36-8586a9e6bb91",
   "metadata": {},
   "source": [
    "# 2. Unsupervised Learning \n",
    "# <div dir=\"rtl\" style=\"text-align: right; font-family: Tahoma, Arial, sans-serif;\">یادگیری بدون نظارت\n",
    "\n",
    "Given unlabeled data about flower petal lengths, we want to automatically group them into similar types.\n",
    "\n",
    "<div dir=\"rtl\" style=\"text-align: right; font-family: Tahoma, Arial, sans-serif;\"> داده‌هایی از طول گلبرگ گل‌ها داریم (بدون برچسب)، هدف این است که آن‌ها را بر اساس شباهت‌ها گروه‌بندی کنیم."
   ]
  },
  {
   "cell_type": "code",
   "execution_count": 6,
   "id": "196277d9-fbed-4122-a9a0-028e6dd69853",
   "metadata": {},
   "outputs": [
    {
     "name": "stdout",
     "output_type": "stream",
     "text": [
      "Cluster labels: [0 0 0 1 1 1 1]\n",
      "Cluster centers: [[1.83333333]\n",
      " [4.2       ]]\n"
     ]
    }
   ],
   "source": [
    "from sklearn.cluster import KMeans\n",
    "import numpy as np\n",
    "\n",
    "X = np.array([[1.0], [1.5], [3.0], [5.0], [3.5], [4.5], [3.8]])\n",
    "\n",
    "kmeans = KMeans(n_clusters=2)\n",
    "kmeans.fit(X)\n",
    "\n",
    "print(\"Cluster labels:\", kmeans.labels_)\n",
    "print(\"Cluster centers:\", kmeans.cluster_centers_)\n"
   ]
  },
  {
   "cell_type": "markdown",
   "id": "0a00548e-2ed3-488e-99d7-65b5f8054e1f",
   "metadata": {},
   "source": [
    " # 3. Semi-Supervised Learning \n",
    "# <div dir=\"rtl\" style=\"text-align: right; font-family: Tahoma, Arial, sans-serif;\">یادگیری نیمه‌نظارتی\n",
    "\n",
    "\n",
    "     We have 100 images of digits but only 10 are labeled. We use the labeled ones to \"guess\" labels for the rest (pseudo-labeling).\n",
    "   <div dir=\"rtl\" style=\"text-align: right; font-family: Tahoma, Arial, sans-serif;\">\n",
    "    ۱۰۰ تصویر از ارقام داریم اما فقط ۱۰ تا از آن‌ها برچسب دارند. از آن‌ها برای حدس زدن برچسب تصاویر دیگر استفاده می‌کنیم (برچسب‌زنی جعلی)."
   ]
  },
  {
   "cell_type": "code",
   "execution_count": 7,
   "id": "d69948df-3ff9-4360-af26-ffd25b0258b5",
   "metadata": {},
   "outputs": [
    {
     "name": "stdout",
     "output_type": "stream",
     "text": [
      "Pseudo labels: [0 1 1]\n"
     ]
    }
   ],
   "source": [
    "import numpy as np\n",
    "from sklearn.linear_model import LogisticRegression\n",
    "\n",
    "X_labeled = np.array([[0.1], [0.9]])\n",
    "y_labeled = np.array([0, 1])\n",
    "\n",
    "X_unlabeled = np.array([[0.2], [0.8], [0.85]])\n",
    "\n",
    "model = LogisticRegression()\n",
    "model.fit(X_labeled, y_labeled)\n",
    "\n",
    "pseudo_labels = model.predict(X_unlabeled)\n",
    "\n",
    "print(\"Pseudo labels:\", pseudo_labels)\n"
   ]
  },
  {
   "cell_type": "markdown",
   "id": "74ec31cc-bdf5-4cc5-a082-2e961ebadee0",
   "metadata": {},
   "source": [
    "# 4. Reinforcement Learning \n",
    "# <div dir=\"rtl\" style=\"text-align: right; font-family: Tahoma, Arial, sans-serif;\">یادگیری تقویتی\n",
    "\n",
    " An agent chooses between \"Left\" and \"Right\". If it picks \"Right\", it gets a reward. Over time, it learns to always pick \"Right\".\n",
    "<div dir=\"rtl\" style=\"text-align: right; font-family: Tahoma, Arial, sans-serif;\">\n",
    "عاملی داریم که باید بین «چپ» و «راست» یکی را انتخاب کند. اگر «راست» را انتخاب کند، پاداش می‌گیرد. در طول زمان یاد می‌گیرد همیشه گزینه صحیح را انتخاب کند."
   ]
  },
  {
   "cell_type": "code",
   "execution_count": 8,
   "id": "f55294af-b75c-46e9-9ea2-987ed4daa409",
   "metadata": {},
   "outputs": [
    {
     "name": "stdout",
     "output_type": "stream",
     "text": [
      "Q-values: {'Left': 0.0, 'Right': 0.9903022627021246}\n"
     ]
    }
   ],
   "source": [
    "import random\n",
    "\n",
    "actions = ['Left', 'Right']\n",
    "q_values = {'Left': 0, 'Right': 0}\n",
    "alpha = 0.1\n",
    "reward = {'Left': 0, 'Right': 1}\n",
    "\n",
    "for _ in range(100):\n",
    "    action = random.choice(actions)\n",
    "    r = reward[action]\n",
    "    q_values[action] += alpha * (r - q_values[action])\n",
    "\n",
    "print(\"Q-values:\", q_values)\n"
   ]
  },
  {
   "cell_type": "markdown",
   "id": "64b8c983-5b2b-4dc4-80c9-5933738ae9db",
   "metadata": {},
   "source": [
    "| نوع یادگیری | مثال ساده                                        | هدف                                  |\n",
    "| ----------- | ------------------------------------------------ | ------------------------------------ |\n",
    "| نظارت‌شده   | پیش‌بینی نمره از روی ساعت مطالعه                 | پیش‌بینی خروجی دقیق                  |\n",
    "| بدون‌نظارت  | گروه‌بندی گل‌ها بدون برچسب                       | کشف ساختار پنهان                     |\n",
    "| نیمه‌نظارتی | استفاده از داده‌های کم‌برچسب برای برچسب‌زنی بقیه | استفاده بهتر از داده‌های بدون‌برچسب  |\n",
    "| تقویتی      | عامل یادگیرنده که بین دو انتخاب تصمیم می‌گیرد    | بهینه‌سازی رفتار با استفاده از پاداش |\n"
   ]
  }
 ],
 "metadata": {
  "kernelspec": {
   "display_name": "Python 3 (ipykernel)",
   "language": "python",
   "name": "python3"
  },
  "language_info": {
   "codemirror_mode": {
    "name": "ipython",
    "version": 3
   },
   "file_extension": ".py",
   "mimetype": "text/x-python",
   "name": "python",
   "nbconvert_exporter": "python",
   "pygments_lexer": "ipython3",
   "version": "3.12.4"
  }
 },
 "nbformat": 4,
 "nbformat_minor": 5
}
